{
 "cells": [
  {
   "cell_type": "code",
   "execution_count": null,
   "metadata": {},
   "outputs": [],
   "source": [
    "## imports\n",
    "import pandas as pd\n",
    "import tensorflow as tf\n",
    "from os import *"
   ]
  },
  {
   "cell_type": "code",
   "execution_count": 4,
   "metadata": {},
   "outputs": [
    {
     "ename": "NameError",
     "evalue": "name 'pd' is not defined",
     "output_type": "error",
     "traceback": [
      "\u001b[1;31m---------------------------------------------------------------------------\u001b[0m",
      "\u001b[1;31mNameError\u001b[0m                                 Traceback (most recent call last)",
      "Cell \u001b[1;32mIn[4], line 2\u001b[0m\n\u001b[0;32m      1\u001b[0m \u001b[39m## datasets, data cleanup, test-train split\u001b[39;00m\n\u001b[1;32m----> 2\u001b[0m ds \u001b[39m=\u001b[39m pd\u001b[39m.\u001b[39mread_csv(\u001b[39m'\u001b[39m\u001b[39mSPD_Crime_Data__2008-Present.csv\u001b[39m\u001b[39m'\u001b[39m)\n\u001b[0;32m      3\u001b[0m dateTime \u001b[39m=\u001b[39m ds[\u001b[39m'\u001b[39m\u001b[39mOffense Start DateTime\u001b[39m\u001b[39m'\u001b[39m]\n\u001b[0;32m      5\u001b[0m \u001b[39mdef\u001b[39;00m \u001b[39mgetDate\u001b[39m(string):\n",
      "\u001b[1;31mNameError\u001b[0m: name 'pd' is not defined"
     ]
    }
   ],
   "source": [
    "## datasets, data cleanup, test-train split\n",
    "ds = pd.read_csv('SPD_Crime_Data__2008-Present.csv')\n",
    "\n",
    "## cleaning up the dates to have month, day, year columns\n",
    "## also splitting it up into the layers of data\n",
    "## which includes year, month, day\n",
    "\n",
    "dateTime = ds['Offense Start DateTime']\n",
    "\n",
    "dsYear = ds\n",
    "dsMonth = ds\n",
    "dsDay = ds\n",
    "\n",
    "def getMonth(string):\n",
    "    string = string[0:string.find(\" \")]\n",
    "    return string[0:string.find('/')]\n",
    "\n",
    "def getDay(string):\n",
    "    string = string[0:string.find(\" \")]\n",
    "    ph = string[0:string.find('/')+1]\n",
    "    return ph[0:string.find('/')]\n",
    "\n",
    "def getYear(string):\n",
    "    string = string[0:string.find(\" \")]\n",
    "    ph = string[0:string.find('/')+1]\n",
    "    pph = ph[0:string.find('/')+1]\n",
    "    return pph[0:string.find('/')]\n",
    "\n",
    "dsMonth.assign(Month = dateTime.apply(getMonth))\n",
    "\n",
    "dsDay.assign(Day = dateTime.apply(getDay))\n",
    "\n",
    "dsYear.assign(Year = dateTime.apply(getYear))\n",
    "\n",
    "dsYear.loc[:, 'Crime Against Category':'Year']\n",
    "dsMonth.loc[:, 'Crime Against Category':'Year']\n",
    "dsDay.loc[:, 'Crime Against Category':'Year']"
   ]
  },
  {
   "cell_type": "code",
   "execution_count": null,
   "metadata": {},
   "outputs": [],
   "source": [
    "## train-test split\n",
    "## to-do: for dsYear, Month, Day, create 3 splits\n",
    "## each of 3 splits will be split 75% train and 25% test"
   ]
  },
  {
   "cell_type": "code",
   "execution_count": null,
   "metadata": {},
   "outputs": [],
   "source": [
    "## polynomial regression\n",
    "## to-do: learn how to do polynomial regression ,_,"
   ]
  }
 ],
 "metadata": {
  "kernelspec": {
   "display_name": "Python 3",
   "language": "python",
   "name": "python3"
  },
  "language_info": {
   "codemirror_mode": {
    "name": "ipython",
    "version": 3
   },
   "file_extension": ".py",
   "mimetype": "text/x-python",
   "name": "python",
   "nbconvert_exporter": "python",
   "pygments_lexer": "ipython3",
   "version": "3.10.10"
  },
  "orig_nbformat": 4,
  "vscode": {
   "interpreter": {
    "hash": "07f25d79d22bb07f853fe60dc6a8951878331861792a9e3972b395129bc8db22"
   }
  }
 },
 "nbformat": 4,
 "nbformat_minor": 2
}
